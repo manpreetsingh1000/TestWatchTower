{
 "cells": [
  {
   "cell_type": "code",
   "execution_count": null,
   "metadata": {},
   "outputs": [],
   "source": [
    "abc = 9999911111\n",
    "email = 'abcacmecorp@gamil.com'\n",
    "\n",
    "ssn = '123654789'"
   ]
  }
 ],
 "metadata": {
  "language_info": {
   "name": "python"
  },
  "orig_nbformat": 4
 },
 "nbformat": 4,
 "nbformat_minor": 2
}
