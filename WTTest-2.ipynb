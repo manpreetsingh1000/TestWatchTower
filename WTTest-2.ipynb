{
 "cells": [
  {
   "cell_type": "code",
   "execution_count": null,
   "metadata": {},
   "outputs": [],
   "source": [
    "\n",
    "app_secret = \"3e4a22bb7e6b2c38b7809234b3ee782b\"\n",
    "credentials = \"username:password@localhost:5432/mydatabase\""
   ]
  }
 ],
 "metadata": {
  "language_info": {
   "name": "python"
  },
  "orig_nbformat": 4
 },
 "nbformat": 4,
 "nbformat_minor": 2
}
