{
 "cells": [
  {
   "cell_type": "code",
   "execution_count": null,
   "id": "394704b1",
   "metadata": {},
   "outputs": [],
   "source": [
    "app_secret = \"3e4a22bb7e6b2c38b7809234b3ee782b\"\n",
    "credentials = \"username:password@localhost:5432/mydatabase\""
   ]
  }
 ]
}
