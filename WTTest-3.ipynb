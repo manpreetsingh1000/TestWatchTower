{
 "cells": [
  {
   "cell_type": "code",
   "execution_count": null,
   "id": "394704b1",
   "metadata": {},
   "outputs": [],
   "source": [
    "app_secret = \"3e4a22bb7e6b2c38b7809234b3ee782b\"\n",
    "credentials = \"username:password@localhost:5432/mydatabase\""
   ]
  }
 ],
 "metadata": {
  "kernelspec": {
   "display_name": "Python 3 (ipykernel)",
   "language": "python",
   "name": "python3"
  },
  "language_info": {
   "codemirror_mode": {
    "name": "ipython",
    "version": 3
   },
   "file_extension": ".py",
   "mimetype": "text/x-python",
   "name": "python",
   "nbconvert_exporter": "python",
   "pygments_lexer": "ipython3",
   "version": "3.8.16"
  }
 },
 "nbformat": 4,
 "nbformat_minor": 5
}
